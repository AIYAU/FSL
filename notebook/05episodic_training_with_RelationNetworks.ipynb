{
 "cells": [
  {
   "cell_type": "markdown",
   "metadata": {
    "id": "MQLsAJC01D5m",
    "pycharm": {
     "name": "#%% md\n"
    }
   },
   "source": [
    "# 使用情景训练法训练模型\n",
    "\n"
   ]
  },
  {
   "cell_type": "markdown",
   "metadata": {
    "id": "o5aFVwdT1D5t",
    "pycharm": {
     "name": "#%% md\n"
    }
   },
   "source": [
    "## Getting started\n"
   ]
  },
  {
   "cell_type": "code",
   "execution_count": 1,
   "metadata": {
    "collapsed": false,
    "jupyter": {
     "outputs_hidden": false
    },
    "pycharm": {
     "name": "#%%\n"
    }
   },
   "outputs": [],
   "source": [
    "# 导包\n",
    "import copy\n",
    "from pathlib import Path\n",
    "import random\n",
    "from statistics import mean\n",
    "import numpy as np\n",
    "import torch\n",
    "from torch import nn\n",
    "from tqdm import tqdm"
   ]
  },
  {
   "cell_type": "code",
   "execution_count": 2,
   "metadata": {
    "collapsed": false,
    "jupyter": {
     "outputs_hidden": false
    },
    "pycharm": {
     "name": "#%%\n"
    }
   },
   "outputs": [],
   "source": [
    "#设置随机种子\n",
    "random_seed = 0\n",
    "np.random.seed(random_seed)\n",
    "torch.manual_seed(random_seed)\n",
    "random.seed(random_seed)\n",
    "torch.backends.cudnn.deterministic = True\n",
    "torch.backends.cudnn.benchmark = False"
   ]
  },
  {
   "cell_type": "code",
   "execution_count": 3,
   "metadata": {
    "collapsed": false,
    "jupyter": {
     "outputs_hidden": false
    },
    "pycharm": {
     "name": "#%%\n"
    }
   },
   "outputs": [],
   "source": [
    "# 设置采样策略,训练设备信息等\n",
    "n_way = 5\n",
    "n_shot = 5\n",
    "n_query = 10\n",
    "\n",
    "DEVICE = \"cuda\"\n",
    "n_workers = 12"
   ]
  },
  {
   "cell_type": "code",
   "execution_count": 4,
   "metadata": {
    "collapsed": false,
    "jupyter": {
     "outputs_hidden": false
    },
    "pycharm": {
     "name": "#%%\n"
    }
   },
   "outputs": [],
   "source": [
    "from easyfsl.datasets import CUB\n",
    "from easyfsl.samplers import TaskSampler\n",
    "from torch.utils.data import DataLoader\n",
    "\n",
    "import os\n",
    "# 指定你想切换到的目录路径，这里是为了读数据，因为目前这个notebook在子目录下面，\n",
    "new_working_directory = \"/ML/Mashuai/few-shot-learning\"\n",
    "\n",
    "# 切换到新的工作目录\n",
    "os.chdir(new_working_directory)\n",
    "\n",
    "# 打印当前工\n",
    "n_tasks_per_epoch = 500\n",
    "n_validation_tasks = 100\n",
    "\n",
    "# 实例化数据集\n",
    "train_set = CUB(split=\"train\", training=True)\n",
    "val_set = CUB(split=\"val\", training=False)\n",
    "\n",
    "# 这些是特殊的批量采样器，对具有预定义形状的few-shot分类任务进行采样\n",
    "train_sampler = TaskSampler(\n",
    "    train_set, n_way=n_way, n_shot=n_shot, n_query=n_query, n_tasks=n_tasks_per_epoch\n",
    ")\n",
    "val_sampler = TaskSampler(\n",
    "    val_set, n_way=n_way, n_shot=n_shot, n_query=n_query, n_tasks=n_validation_tasks\n",
    ")\n",
    "\n",
    "# 最后是DataLoader。我们定制collate_fn以便批量交付\n",
    "# 格式为: (support_images, support_labels, query_images, query_labels, class_ids)\n",
    "train_loader = DataLoader(\n",
    "    train_set,\n",
    "    batch_sampler=train_sampler,\n",
    "    num_workers=n_workers,\n",
    "    pin_memory=True,\n",
    "    collate_fn=train_sampler.episodic_collate_fn,\n",
    ")\n",
    "val_loader = DataLoader(\n",
    "    val_set,\n",
    "    batch_sampler=val_sampler,\n",
    "    num_workers=n_workers,\n",
    "    pin_memory=True,\n",
    "    collate_fn=val_sampler.episodic_collate_fn,\n",
    ")"
   ]
  },
  {
   "cell_type": "markdown",
   "metadata": {
    "collapsed": false,
    "jupyter": {
     "outputs_hidden": false
    },
    "pycharm": {
     "name": "#%% md\n"
    }
   },
   "source": [
    "然后我们定义网络。在这里，我选择了Prototypical Networks和PyTorch内置的ResNet18，因为它很容易。"
   ]
  },
  {
   "cell_type": "code",
   "execution_count": 5,
   "metadata": {
    "collapsed": false,
    "jupyter": {
     "outputs_hidden": false
    },
    "pycharm": {
     "name": "#%%\n"
    }
   },
   "outputs": [],
   "source": [
    "from easyfsl.methods import PrototypicalNetworks, FewShotClassifier,RelationNetworks\n",
    "from easyfsl.modules import resnet12,default_relation_module\n",
    "convolutional_network = None"
   ]
  },
  {
   "cell_type": "code",
   "execution_count": 6,
   "metadata": {
    "collapsed": false,
    "jupyter": {
     "outputs_hidden": false
    },
    "pycharm": {
     "name": "#%%\n"
    }
   },
   "outputs": [],
   "source": [
    "# few_shot_classifier = PrototypicalNetworks(convolutional_network).to(DEVICE)\n",
    "few_shot_classifier = RelationNetworks(feature_dimension=3).to(DEVICE)"
   ]
  },
  {
   "cell_type": "code",
   "execution_count": 7,
   "metadata": {
    "collapsed": false,
    "jupyter": {
     "outputs_hidden": false
    },
    "pycharm": {
     "name": "#%%\n"
    }
   },
   "outputs": [],
   "source": [
    "from torch.optim import SGD, Optimizer\n",
    "from torch.optim.lr_scheduler import MultiStepLR\n",
    "from torch.utils.tensorboard import SummaryWriter\n",
    "\n",
    "\n",
    "LOSS_FUNCTION = nn.CrossEntropyLoss()\n",
    "\n",
    "n_epochs = 200\n",
    "scheduler_milestones = [120, 160]\n",
    "scheduler_gamma = 0.1\n",
    "learning_rate = 1e-2\n",
    "tb_logs_dir = Path(\"../logs\")\n",
    "\n",
    "train_optimizer = SGD(few_shot_classifier.parameters(), lr=learning_rate, momentum=0.9, weight_decay=5e-4)\n",
    "train_scheduler = MultiStepLR(train_optimizer,milestones=scheduler_milestones,gamma=scheduler_gamma,)\n",
    "\n",
    "tb_writer = SummaryWriter(log_dir=str(tb_logs_dir))"
   ]
  },
  {
   "cell_type": "code",
   "execution_count": 8,
   "metadata": {
    "collapsed": false,
    "jupyter": {
     "outputs_hidden": false
    },
    "pycharm": {
     "name": "#%%\n"
    }
   },
   "outputs": [],
   "source": [
    "def training_epoch(model: FewShotClassifier, data_loader: DataLoader, optimizer: Optimizer):\n",
    "    all_loss = []\n",
    "    model.train()\n",
    "    with tqdm(enumerate(data_loader), total=len(data_loader), desc=\"Training\") as tqdm_train:\n",
    "        for episode_index, (support_images,support_labels,query_images,query_labels,_,) in tqdm_train:\n",
    "            optimizer.zero_grad()\n",
    "            model.process_support_set(support_images.to(DEVICE), support_labels.to(DEVICE) )\n",
    "            classification_scores = model(query_images.to(DEVICE))\n",
    "\n",
    "            loss = LOSS_FUNCTION(classification_scores, query_labels.to(DEVICE))\n",
    "            loss.backward()\n",
    "            optimizer.step()\n",
    "\n",
    "            all_loss.append(loss.item())\n",
    "\n",
    "            tqdm_train.set_postfix(loss=mean(all_loss))\n",
    "\n",
    "    return mean(all_loss)"
   ]
  },
  {
   "cell_type": "markdown",
   "metadata": {
    "collapsed": false,
    "jupyter": {
     "outputs_hidden": false
    },
    "pycharm": {
     "name": "#%% md\n"
    }
   },
   "source": [
    "我们有我们需要的一切!要执行验证，我们将使用内置的来自`easyfsl.methods.utils` 的`evaluate` 函数 .\n",
    "\n",
    "现在是时候 **start training 原神，启动！**.\n",
    "\n",
    "我添加了一些东西来记录在验证集上提供最佳性能的模型的状态。"
   ]
  },
  {
   "cell_type": "code",
   "execution_count": 9,
   "metadata": {
    "collapsed": false,
    "jupyter": {
     "outputs_hidden": false
    },
    "pycharm": {
     "name": "#%%\n"
    },
    "scrolled": true
   },
   "outputs": [
    {
     "name": "stdout",
     "output_type": "stream",
     "text": [
      "Epoch 0\n"
     ]
    },
    {
     "name": "stderr",
     "output_type": "stream",
     "text": [
      "Training: 100%|█████████████████████| 500/500 [00:20<00:00, 24.11it/s, loss=1.61]\n",
      "Validation: 100%|██████████████| 100/100 [00:03<00:00, 25.04it/s, accuracy=0.216]"
     ]
    },
    {
     "name": "stdout",
     "output_type": "stream",
     "text": [
      "Ding ding ding! We found a new best model!\n",
      "Epoch 1\n"
     ]
    },
    {
     "name": "stderr",
     "output_type": "stream",
     "text": [
      "\n",
      "Training: 100%|██████████████████████| 500/500 [00:18<00:00, 27.05it/s, loss=1.6]\n",
      "Validation: 100%|███████████████| 100/100 [00:04<00:00, 24.63it/s, accuracy=0.29]"
     ]
    },
    {
     "name": "stdout",
     "output_type": "stream",
     "text": [
      "Ding ding ding! We found a new best model!\n",
      "Epoch 2\n"
     ]
    },
    {
     "name": "stderr",
     "output_type": "stream",
     "text": [
      "\n",
      "Training: 100%|█████████████████████| 500/500 [00:18<00:00, 27.01it/s, loss=1.58]\n",
      "Validation: 100%|██████████████| 100/100 [00:04<00:00, 24.19it/s, accuracy=0.363]"
     ]
    },
    {
     "name": "stdout",
     "output_type": "stream",
     "text": [
      "Ding ding ding! We found a new best model!\n",
      "Epoch 3\n"
     ]
    },
    {
     "name": "stderr",
     "output_type": "stream",
     "text": [
      "\n",
      "Training: 100%|█████████████████████| 500/500 [00:17<00:00, 27.83it/s, loss=1.56]\n",
      "Validation: 100%|██████████████| 100/100 [00:04<00:00, 24.59it/s, accuracy=0.363]"
     ]
    },
    {
     "name": "stdout",
     "output_type": "stream",
     "text": [
      "Ding ding ding! We found a new best model!\n",
      "Epoch 4\n"
     ]
    },
    {
     "name": "stderr",
     "output_type": "stream",
     "text": [
      "\n",
      "Training: 100%|█████████████████████| 500/500 [00:18<00:00, 27.42it/s, loss=1.55]\n",
      "Validation: 100%|██████████████| 100/100 [00:04<00:00, 24.79it/s, accuracy=0.356]"
     ]
    },
    {
     "name": "stdout",
     "output_type": "stream",
     "text": [
      "Epoch 5\n"
     ]
    },
    {
     "name": "stderr",
     "output_type": "stream",
     "text": [
      "\n",
      "Training: 100%|█████████████████████| 500/500 [00:17<00:00, 28.49it/s, loss=1.54]\n",
      "Validation: 100%|██████████████| 100/100 [00:03<00:00, 25.35it/s, accuracy=0.321]"
     ]
    },
    {
     "name": "stdout",
     "output_type": "stream",
     "text": [
      "Epoch 6\n"
     ]
    },
    {
     "name": "stderr",
     "output_type": "stream",
     "text": [
      "\n",
      "Training: 100%|█████████████████████| 500/500 [00:18<00:00, 27.32it/s, loss=1.53]\n",
      "Validation: 100%|██████████████| 100/100 [00:03<00:00, 26.74it/s, accuracy=0.354]"
     ]
    },
    {
     "name": "stdout",
     "output_type": "stream",
     "text": [
      "Epoch 7\n"
     ]
    },
    {
     "name": "stderr",
     "output_type": "stream",
     "text": [
      "\n",
      "Training: 100%|█████████████████████| 500/500 [00:18<00:00, 27.59it/s, loss=1.53]\n",
      "Validation: 100%|███████████████| 100/100 [00:04<00:00, 24.00it/s, accuracy=0.39]"
     ]
    },
    {
     "name": "stdout",
     "output_type": "stream",
     "text": [
      "Ding ding ding! We found a new best model!\n",
      "Epoch 8\n"
     ]
    },
    {
     "name": "stderr",
     "output_type": "stream",
     "text": [
      "\n",
      "Training: 100%|█████████████████████| 500/500 [00:17<00:00, 28.35it/s, loss=1.52]\n",
      "Validation: 100%|██████████████| 100/100 [00:04<00:00, 24.45it/s, accuracy=0.373]"
     ]
    },
    {
     "name": "stdout",
     "output_type": "stream",
     "text": [
      "Epoch 9\n"
     ]
    },
    {
     "name": "stderr",
     "output_type": "stream",
     "text": [
      "\n",
      "Training: 100%|█████████████████████| 500/500 [00:18<00:00, 27.22it/s, loss=1.53]\n",
      "Validation: 100%|██████████████| 100/100 [00:03<00:00, 26.89it/s, accuracy=0.372]"
     ]
    },
    {
     "name": "stdout",
     "output_type": "stream",
     "text": [
      "Epoch 10\n"
     ]
    },
    {
     "name": "stderr",
     "output_type": "stream",
     "text": [
      "\n",
      "Training: 100%|█████████████████████| 500/500 [00:18<00:00, 26.87it/s, loss=1.52]\n",
      "Validation: 100%|██████████████| 100/100 [00:04<00:00, 23.99it/s, accuracy=0.392]"
     ]
    },
    {
     "name": "stdout",
     "output_type": "stream",
     "text": [
      "Ding ding ding! We found a new best model!\n",
      "Epoch 11\n"
     ]
    },
    {
     "name": "stderr",
     "output_type": "stream",
     "text": [
      "\n",
      "Training: 100%|█████████████████████| 500/500 [00:18<00:00, 27.14it/s, loss=1.53]\n",
      "Validation: 100%|███████████████| 100/100 [00:03<00:00, 26.29it/s, accuracy=0.37]"
     ]
    },
    {
     "name": "stdout",
     "output_type": "stream",
     "text": [
      "Epoch 12\n"
     ]
    },
    {
     "name": "stderr",
     "output_type": "stream",
     "text": [
      "\n",
      "Training: 100%|█████████████████████| 500/500 [00:17<00:00, 27.98it/s, loss=1.52]\n",
      "Validation: 100%|██████████████| 100/100 [00:03<00:00, 25.21it/s, accuracy=0.373]"
     ]
    },
    {
     "name": "stdout",
     "output_type": "stream",
     "text": [
      "Epoch 13\n"
     ]
    },
    {
     "name": "stderr",
     "output_type": "stream",
     "text": [
      "\n",
      "Training: 100%|█████████████████████| 500/500 [00:17<00:00, 28.23it/s, loss=1.53]\n",
      "Validation: 100%|██████████████| 100/100 [00:03<00:00, 25.70it/s, accuracy=0.391]"
     ]
    },
    {
     "name": "stdout",
     "output_type": "stream",
     "text": [
      "Epoch 14\n"
     ]
    },
    {
     "name": "stderr",
     "output_type": "stream",
     "text": [
      "\n",
      "Training: 100%|█████████████████████| 500/500 [00:17<00:00, 28.09it/s, loss=1.52]\n",
      "Validation: 100%|██████████████| 100/100 [00:03<00:00, 25.57it/s, accuracy=0.379]"
     ]
    },
    {
     "name": "stdout",
     "output_type": "stream",
     "text": [
      "Epoch 15\n"
     ]
    },
    {
     "name": "stderr",
     "output_type": "stream",
     "text": [
      "\n",
      "Training: 100%|█████████████████████| 500/500 [00:18<00:00, 27.53it/s, loss=1.51]\n",
      "Validation: 100%|██████████████| 100/100 [00:03<00:00, 26.45it/s, accuracy=0.388]"
     ]
    },
    {
     "name": "stdout",
     "output_type": "stream",
     "text": [
      "Epoch 16\n"
     ]
    },
    {
     "name": "stderr",
     "output_type": "stream",
     "text": [
      "\n",
      "Training: 100%|█████████████████████| 500/500 [00:17<00:00, 28.21it/s, loss=1.53]\n",
      "Validation: 100%|██████████████| 100/100 [00:03<00:00, 27.71it/s, accuracy=0.373]"
     ]
    },
    {
     "name": "stdout",
     "output_type": "stream",
     "text": [
      "Epoch 17\n"
     ]
    },
    {
     "name": "stderr",
     "output_type": "stream",
     "text": [
      "\n",
      "Training: 100%|█████████████████████| 500/500 [00:17<00:00, 28.03it/s, loss=1.52]\n",
      "Validation: 100%|██████████████| 100/100 [00:04<00:00, 24.64it/s, accuracy=0.384]"
     ]
    },
    {
     "name": "stdout",
     "output_type": "stream",
     "text": [
      "Epoch 18\n"
     ]
    },
    {
     "name": "stderr",
     "output_type": "stream",
     "text": [
      "\n",
      "Training: 100%|█████████████████████| 500/500 [00:17<00:00, 28.38it/s, loss=1.52]\n",
      "Validation: 100%|██████████████| 100/100 [00:03<00:00, 26.30it/s, accuracy=0.385]"
     ]
    },
    {
     "name": "stdout",
     "output_type": "stream",
     "text": [
      "Epoch 19\n"
     ]
    },
    {
     "name": "stderr",
     "output_type": "stream",
     "text": [
      "\n",
      "Training: 100%|█████████████████████| 500/500 [00:18<00:00, 27.68it/s, loss=1.52]\n",
      "Validation: 100%|██████████████| 100/100 [00:03<00:00, 25.95it/s, accuracy=0.377]"
     ]
    },
    {
     "name": "stdout",
     "output_type": "stream",
     "text": [
      "Epoch 20\n"
     ]
    },
    {
     "name": "stderr",
     "output_type": "stream",
     "text": [
      "\n",
      "Training: 100%|█████████████████████| 500/500 [00:18<00:00, 26.92it/s, loss=1.52]\n",
      "Validation: 100%|██████████████| 100/100 [00:04<00:00, 24.38it/s, accuracy=0.367]"
     ]
    },
    {
     "name": "stdout",
     "output_type": "stream",
     "text": [
      "Epoch 21\n"
     ]
    },
    {
     "name": "stderr",
     "output_type": "stream",
     "text": [
      "\n",
      "Training: 100%|█████████████████████| 500/500 [00:18<00:00, 27.51it/s, loss=1.51]\n",
      "Validation: 100%|██████████████| 100/100 [00:04<00:00, 23.71it/s, accuracy=0.381]"
     ]
    },
    {
     "name": "stdout",
     "output_type": "stream",
     "text": [
      "Epoch 22\n"
     ]
    },
    {
     "name": "stderr",
     "output_type": "stream",
     "text": [
      "\n",
      "Training: 100%|█████████████████████| 500/500 [00:17<00:00, 28.09it/s, loss=1.52]\n",
      "Validation: 100%|██████████████| 100/100 [00:03<00:00, 26.79it/s, accuracy=0.391]"
     ]
    },
    {
     "name": "stdout",
     "output_type": "stream",
     "text": [
      "Epoch 23\n"
     ]
    },
    {
     "name": "stderr",
     "output_type": "stream",
     "text": [
      "\n",
      "Training: 100%|█████████████████████| 500/500 [00:18<00:00, 27.11it/s, loss=1.52]\n",
      "Validation: 100%|██████████████| 100/100 [00:04<00:00, 24.85it/s, accuracy=0.399]"
     ]
    },
    {
     "name": "stdout",
     "output_type": "stream",
     "text": [
      "Ding ding ding! We found a new best model!\n",
      "Epoch 24\n"
     ]
    },
    {
     "name": "stderr",
     "output_type": "stream",
     "text": [
      "\n",
      "Training: 100%|█████████████████████| 500/500 [00:18<00:00, 27.34it/s, loss=1.52]\n",
      "Validation: 100%|██████████████| 100/100 [00:03<00:00, 25.18it/s, accuracy=0.393]"
     ]
    },
    {
     "name": "stdout",
     "output_type": "stream",
     "text": [
      "Epoch 25\n"
     ]
    },
    {
     "name": "stderr",
     "output_type": "stream",
     "text": [
      "\n",
      "Training: 100%|█████████████████████| 500/500 [00:18<00:00, 27.77it/s, loss=1.52]\n",
      "Validation: 100%|██████████████| 100/100 [00:04<00:00, 24.46it/s, accuracy=0.395]"
     ]
    },
    {
     "name": "stdout",
     "output_type": "stream",
     "text": [
      "Epoch 26\n"
     ]
    },
    {
     "name": "stderr",
     "output_type": "stream",
     "text": [
      "\n",
      "Training: 100%|█████████████████████| 500/500 [00:17<00:00, 28.07it/s, loss=1.52]\n",
      "Validation: 100%|██████████████| 100/100 [00:03<00:00, 26.56it/s, accuracy=0.387]"
     ]
    },
    {
     "name": "stdout",
     "output_type": "stream",
     "text": [
      "Epoch 27\n"
     ]
    },
    {
     "name": "stderr",
     "output_type": "stream",
     "text": [
      "\n",
      "Training: 100%|█████████████████████| 500/500 [00:17<00:00, 28.15it/s, loss=1.52]\n",
      "Validation: 100%|██████████████| 100/100 [00:04<00:00, 23.43it/s, accuracy=0.367]"
     ]
    },
    {
     "name": "stdout",
     "output_type": "stream",
     "text": [
      "Epoch 28\n"
     ]
    },
    {
     "name": "stderr",
     "output_type": "stream",
     "text": [
      "\n",
      "Training: 100%|█████████████████████| 500/500 [00:17<00:00, 28.37it/s, loss=1.51]\n",
      "Validation: 100%|██████████████| 100/100 [00:04<00:00, 24.57it/s, accuracy=0.402]"
     ]
    },
    {
     "name": "stdout",
     "output_type": "stream",
     "text": [
      "Ding ding ding! We found a new best model!\n",
      "Epoch 29\n"
     ]
    },
    {
     "name": "stderr",
     "output_type": "stream",
     "text": [
      "\n",
      "Training: 100%|█████████████████████| 500/500 [00:18<00:00, 27.03it/s, loss=1.52]\n",
      "Validation: 100%|██████████████| 100/100 [00:04<00:00, 24.70it/s, accuracy=0.361]"
     ]
    },
    {
     "name": "stdout",
     "output_type": "stream",
     "text": [
      "Epoch 30\n"
     ]
    },
    {
     "name": "stderr",
     "output_type": "stream",
     "text": [
      "\n",
      "Training: 100%|█████████████████████| 500/500 [00:17<00:00, 27.80it/s, loss=1.51]\n",
      "Validation: 100%|██████████████| 100/100 [00:03<00:00, 25.42it/s, accuracy=0.408]"
     ]
    },
    {
     "name": "stdout",
     "output_type": "stream",
     "text": [
      "Ding ding ding! We found a new best model!\n",
      "Epoch 31\n"
     ]
    },
    {
     "name": "stderr",
     "output_type": "stream",
     "text": [
      "\n",
      "Training: 100%|█████████████████████| 500/500 [00:17<00:00, 28.03it/s, loss=1.52]\n",
      "Validation: 100%|███████████████| 100/100 [00:03<00:00, 26.21it/s, accuracy=0.34]"
     ]
    },
    {
     "name": "stdout",
     "output_type": "stream",
     "text": [
      "Epoch 32\n"
     ]
    },
    {
     "name": "stderr",
     "output_type": "stream",
     "text": [
      "\n",
      "Training: 100%|█████████████████████| 500/500 [00:18<00:00, 26.64it/s, loss=1.52]\n",
      "Validation: 100%|██████████████| 100/100 [00:03<00:00, 25.29it/s, accuracy=0.392]"
     ]
    },
    {
     "name": "stdout",
     "output_type": "stream",
     "text": [
      "Epoch 33\n"
     ]
    },
    {
     "name": "stderr",
     "output_type": "stream",
     "text": [
      "\n",
      "Training: 100%|█████████████████████| 500/500 [00:18<00:00, 26.68it/s, loss=1.51]\n",
      "Validation: 100%|██████████████| 100/100 [00:04<00:00, 24.00it/s, accuracy=0.389]"
     ]
    },
    {
     "name": "stdout",
     "output_type": "stream",
     "text": [
      "Epoch 34\n"
     ]
    },
    {
     "name": "stderr",
     "output_type": "stream",
     "text": [
      "\n",
      "Training: 100%|█████████████████████| 500/500 [00:18<00:00, 26.94it/s, loss=1.52]\n",
      "Validation: 100%|██████████████| 100/100 [00:04<00:00, 23.89it/s, accuracy=0.369]"
     ]
    },
    {
     "name": "stdout",
     "output_type": "stream",
     "text": [
      "Epoch 35\n"
     ]
    },
    {
     "name": "stderr",
     "output_type": "stream",
     "text": [
      "\n",
      "Training: 100%|█████████████████████| 500/500 [00:18<00:00, 26.33it/s, loss=1.51]\n",
      "Validation: 100%|██████████████| 100/100 [00:03<00:00, 25.14it/s, accuracy=0.349]"
     ]
    },
    {
     "name": "stdout",
     "output_type": "stream",
     "text": [
      "Epoch 36\n"
     ]
    },
    {
     "name": "stderr",
     "output_type": "stream",
     "text": [
      "\n",
      "Training: 100%|█████████████████████| 500/500 [00:17<00:00, 27.93it/s, loss=1.52]\n",
      "Validation: 100%|████████████████| 100/100 [00:04<00:00, 22.87it/s, accuracy=0.4]"
     ]
    },
    {
     "name": "stdout",
     "output_type": "stream",
     "text": [
      "Epoch 37\n"
     ]
    },
    {
     "name": "stderr",
     "output_type": "stream",
     "text": [
      "\n",
      "Training: 100%|█████████████████████| 500/500 [00:17<00:00, 27.97it/s, loss=1.52]\n",
      "Validation: 100%|██████████████| 100/100 [00:03<00:00, 26.17it/s, accuracy=0.386]"
     ]
    },
    {
     "name": "stdout",
     "output_type": "stream",
     "text": [
      "Epoch 38\n"
     ]
    },
    {
     "name": "stderr",
     "output_type": "stream",
     "text": [
      "\n",
      "Training: 100%|█████████████████████| 500/500 [00:18<00:00, 27.55it/s, loss=1.52]\n",
      "Validation: 100%|██████████████| 100/100 [00:04<00:00, 24.85it/s, accuracy=0.395]"
     ]
    },
    {
     "name": "stdout",
     "output_type": "stream",
     "text": [
      "Epoch 39\n"
     ]
    },
    {
     "name": "stderr",
     "output_type": "stream",
     "text": [
      "\n",
      "Training: 100%|█████████████████████| 500/500 [00:18<00:00, 27.01it/s, loss=1.52]\n",
      "Validation: 100%|███████████████| 100/100 [00:03<00:00, 27.29it/s, accuracy=0.39]"
     ]
    },
    {
     "name": "stdout",
     "output_type": "stream",
     "text": [
      "Epoch 40\n"
     ]
    },
    {
     "name": "stderr",
     "output_type": "stream",
     "text": [
      "\n",
      "Training: 100%|█████████████████████| 500/500 [00:17<00:00, 28.48it/s, loss=1.52]\n",
      "Validation: 100%|████████████████| 100/100 [00:04<00:00, 23.89it/s, accuracy=0.4]"
     ]
    },
    {
     "name": "stdout",
     "output_type": "stream",
     "text": [
      "Epoch 41\n"
     ]
    },
    {
     "name": "stderr",
     "output_type": "stream",
     "text": [
      "\n",
      "Training: 100%|█████████████████████| 500/500 [00:17<00:00, 28.50it/s, loss=1.52]\n",
      "Validation: 100%|██████████████| 100/100 [00:04<00:00, 24.84it/s, accuracy=0.392]"
     ]
    },
    {
     "name": "stdout",
     "output_type": "stream",
     "text": [
      "Epoch 42\n"
     ]
    },
    {
     "name": "stderr",
     "output_type": "stream",
     "text": [
      "\n",
      "Training: 100%|█████████████████████| 500/500 [00:17<00:00, 28.21it/s, loss=1.52]\n",
      "Validation: 100%|██████████████| 100/100 [00:03<00:00, 25.16it/s, accuracy=0.399]"
     ]
    },
    {
     "name": "stdout",
     "output_type": "stream",
     "text": [
      "Epoch 43\n"
     ]
    },
    {
     "name": "stderr",
     "output_type": "stream",
     "text": [
      "\n",
      "Training: 100%|█████████████████████| 500/500 [00:18<00:00, 26.72it/s, loss=1.52]\n",
      "Validation: 100%|██████████████| 100/100 [00:03<00:00, 26.85it/s, accuracy=0.334]"
     ]
    },
    {
     "name": "stdout",
     "output_type": "stream",
     "text": [
      "Epoch 44\n"
     ]
    },
    {
     "name": "stderr",
     "output_type": "stream",
     "text": [
      "\n",
      "Training: 100%|█████████████████████| 500/500 [00:18<00:00, 27.54it/s, loss=1.52]\n",
      "Validation: 100%|██████████████| 100/100 [00:03<00:00, 25.74it/s, accuracy=0.383]"
     ]
    },
    {
     "name": "stdout",
     "output_type": "stream",
     "text": [
      "Epoch 45\n"
     ]
    },
    {
     "name": "stderr",
     "output_type": "stream",
     "text": [
      "\n",
      "Training: 100%|█████████████████████| 500/500 [00:18<00:00, 26.44it/s, loss=1.52]\n",
      "Validation: 100%|██████████████| 100/100 [00:03<00:00, 25.61it/s, accuracy=0.399]"
     ]
    },
    {
     "name": "stdout",
     "output_type": "stream",
     "text": [
      "Epoch 46\n"
     ]
    },
    {
     "name": "stderr",
     "output_type": "stream",
     "text": [
      "\n",
      "Training: 100%|█████████████████████| 500/500 [00:17<00:00, 28.11it/s, loss=1.51]\n",
      "Validation: 100%|██████████████| 100/100 [00:03<00:00, 25.96it/s, accuracy=0.385]"
     ]
    },
    {
     "name": "stdout",
     "output_type": "stream",
     "text": [
      "Epoch 47\n"
     ]
    },
    {
     "name": "stderr",
     "output_type": "stream",
     "text": [
      "\n",
      "Training: 100%|█████████████████████| 500/500 [00:18<00:00, 27.57it/s, loss=1.52]\n",
      "Validation: 100%|██████████████| 100/100 [00:04<00:00, 23.50it/s, accuracy=0.415]"
     ]
    },
    {
     "name": "stdout",
     "output_type": "stream",
     "text": [
      "Ding ding ding! We found a new best model!\n",
      "Epoch 48\n"
     ]
    },
    {
     "name": "stderr",
     "output_type": "stream",
     "text": [
      "\n",
      "Training: 100%|█████████████████████| 500/500 [00:18<00:00, 27.27it/s, loss=1.52]\n",
      "Validation: 100%|██████████████| 100/100 [00:03<00:00, 25.17it/s, accuracy=0.386]"
     ]
    },
    {
     "name": "stdout",
     "output_type": "stream",
     "text": [
      "Epoch 49\n"
     ]
    },
    {
     "name": "stderr",
     "output_type": "stream",
     "text": [
      "\n",
      "Training: 100%|█████████████████████| 500/500 [00:18<00:00, 27.02it/s, loss=1.51]\n",
      "Validation: 100%|██████████████| 100/100 [00:03<00:00, 25.26it/s, accuracy=0.378]"
     ]
    },
    {
     "name": "stdout",
     "output_type": "stream",
     "text": [
      "Epoch 50\n"
     ]
    },
    {
     "name": "stderr",
     "output_type": "stream",
     "text": [
      "\n",
      "Training: 100%|█████████████████████| 500/500 [00:18<00:00, 26.86it/s, loss=1.51]\n",
      "Validation: 100%|██████████████| 100/100 [00:03<00:00, 27.07it/s, accuracy=0.403]"
     ]
    },
    {
     "name": "stdout",
     "output_type": "stream",
     "text": [
      "Epoch 51\n"
     ]
    },
    {
     "name": "stderr",
     "output_type": "stream",
     "text": [
      "\n",
      "Training: 100%|█████████████████████| 500/500 [00:18<00:00, 27.66it/s, loss=1.52]\n",
      "Validation: 100%|██████████████| 100/100 [00:03<00:00, 26.15it/s, accuracy=0.355]"
     ]
    },
    {
     "name": "stdout",
     "output_type": "stream",
     "text": [
      "Epoch 52\n"
     ]
    },
    {
     "name": "stderr",
     "output_type": "stream",
     "text": [
      "\n",
      "Training: 100%|█████████████████████| 500/500 [00:18<00:00, 27.31it/s, loss=1.51]\n",
      "Validation: 100%|██████████████| 100/100 [00:03<00:00, 25.90it/s, accuracy=0.399]"
     ]
    },
    {
     "name": "stdout",
     "output_type": "stream",
     "text": [
      "Epoch 53\n"
     ]
    },
    {
     "name": "stderr",
     "output_type": "stream",
     "text": [
      "\n",
      "Training: 100%|█████████████████████| 500/500 [00:18<00:00, 27.63it/s, loss=1.51]\n",
      "Validation: 100%|████████████████| 100/100 [00:04<00:00, 24.13it/s, accuracy=0.4]"
     ]
    },
    {
     "name": "stdout",
     "output_type": "stream",
     "text": [
      "Epoch 54\n"
     ]
    },
    {
     "name": "stderr",
     "output_type": "stream",
     "text": [
      "\n",
      "Training: 100%|█████████████████████| 500/500 [00:18<00:00, 27.08it/s, loss=1.52]\n",
      "Validation: 100%|██████████████| 100/100 [00:03<00:00, 26.36it/s, accuracy=0.374]"
     ]
    },
    {
     "name": "stdout",
     "output_type": "stream",
     "text": [
      "Epoch 55\n"
     ]
    },
    {
     "name": "stderr",
     "output_type": "stream",
     "text": [
      "\n",
      "Training: 100%|█████████████████████| 500/500 [00:17<00:00, 27.92it/s, loss=1.52]\n",
      "Validation: 100%|██████████████| 100/100 [00:03<00:00, 25.24it/s, accuracy=0.364]"
     ]
    },
    {
     "name": "stdout",
     "output_type": "stream",
     "text": [
      "Epoch 56\n"
     ]
    },
    {
     "name": "stderr",
     "output_type": "stream",
     "text": [
      "\n",
      "Training: 100%|█████████████████████| 500/500 [00:18<00:00, 27.22it/s, loss=1.51]\n",
      "Validation: 100%|██████████████| 100/100 [00:03<00:00, 26.18it/s, accuracy=0.416]"
     ]
    },
    {
     "name": "stdout",
     "output_type": "stream",
     "text": [
      "Ding ding ding! We found a new best model!\n",
      "Epoch 57\n"
     ]
    },
    {
     "name": "stderr",
     "output_type": "stream",
     "text": [
      "\n",
      "Training: 100%|█████████████████████| 500/500 [00:18<00:00, 27.15it/s, loss=1.52]\n",
      "Validation: 100%|██████████████| 100/100 [00:04<00:00, 24.37it/s, accuracy=0.382]"
     ]
    },
    {
     "name": "stdout",
     "output_type": "stream",
     "text": [
      "Epoch 58\n"
     ]
    },
    {
     "name": "stderr",
     "output_type": "stream",
     "text": [
      "\n",
      "Training: 100%|█████████████████████| 500/500 [00:18<00:00, 27.59it/s, loss=1.52]\n",
      "Validation: 100%|██████████████| 100/100 [00:04<00:00, 24.35it/s, accuracy=0.407]"
     ]
    },
    {
     "name": "stdout",
     "output_type": "stream",
     "text": [
      "Epoch 59\n"
     ]
    },
    {
     "name": "stderr",
     "output_type": "stream",
     "text": [
      "\n",
      "Training: 100%|█████████████████████| 500/500 [00:18<00:00, 27.77it/s, loss=1.52]\n",
      "Validation: 100%|██████████████| 100/100 [00:03<00:00, 25.52it/s, accuracy=0.384]"
     ]
    },
    {
     "name": "stdout",
     "output_type": "stream",
     "text": [
      "Epoch 60\n"
     ]
    },
    {
     "name": "stderr",
     "output_type": "stream",
     "text": [
      "\n",
      "Training: 100%|█████████████████████| 500/500 [00:17<00:00, 28.70it/s, loss=1.51]\n",
      "Validation: 100%|██████████████| 100/100 [00:03<00:00, 25.47it/s, accuracy=0.369]"
     ]
    },
    {
     "name": "stdout",
     "output_type": "stream",
     "text": [
      "Epoch 61\n"
     ]
    },
    {
     "name": "stderr",
     "output_type": "stream",
     "text": [
      "\n",
      "Training: 100%|█████████████████████| 500/500 [00:17<00:00, 27.95it/s, loss=1.52]\n",
      "Validation: 100%|██████████████| 100/100 [00:03<00:00, 25.26it/s, accuracy=0.367]"
     ]
    },
    {
     "name": "stdout",
     "output_type": "stream",
     "text": [
      "Epoch 62\n"
     ]
    },
    {
     "name": "stderr",
     "output_type": "stream",
     "text": [
      "\n",
      "Training: 100%|█████████████████████| 500/500 [00:18<00:00, 26.46it/s, loss=1.52]\n",
      "Validation: 100%|██████████████| 100/100 [00:03<00:00, 25.73it/s, accuracy=0.346]"
     ]
    },
    {
     "name": "stdout",
     "output_type": "stream",
     "text": [
      "Epoch 63\n"
     ]
    },
    {
     "name": "stderr",
     "output_type": "stream",
     "text": [
      "\n",
      "Training: 100%|█████████████████████| 500/500 [00:18<00:00, 27.27it/s, loss=1.52]\n",
      "Validation: 100%|██████████████| 100/100 [00:03<00:00, 25.61it/s, accuracy=0.401]"
     ]
    },
    {
     "name": "stdout",
     "output_type": "stream",
     "text": [
      "Epoch 64\n"
     ]
    },
    {
     "name": "stderr",
     "output_type": "stream",
     "text": [
      "\n",
      "Training: 100%|█████████████████████| 500/500 [00:17<00:00, 27.82it/s, loss=1.51]\n",
      "Validation: 100%|██████████████| 100/100 [00:03<00:00, 25.69it/s, accuracy=0.404]"
     ]
    },
    {
     "name": "stdout",
     "output_type": "stream",
     "text": [
      "Epoch 65\n"
     ]
    },
    {
     "name": "stderr",
     "output_type": "stream",
     "text": [
      "\n",
      "Training: 100%|█████████████████████| 500/500 [00:17<00:00, 27.98it/s, loss=1.51]\n",
      "Validation: 100%|██████████████| 100/100 [00:04<00:00, 24.87it/s, accuracy=0.377]"
     ]
    },
    {
     "name": "stdout",
     "output_type": "stream",
     "text": [
      "Epoch 66\n"
     ]
    },
    {
     "name": "stderr",
     "output_type": "stream",
     "text": [
      "\n",
      "Training: 100%|█████████████████████| 500/500 [00:18<00:00, 27.51it/s, loss=1.52]\n",
      "Validation: 100%|██████████████| 100/100 [00:03<00:00, 25.16it/s, accuracy=0.335]"
     ]
    },
    {
     "name": "stdout",
     "output_type": "stream",
     "text": [
      "Epoch 67\n"
     ]
    },
    {
     "name": "stderr",
     "output_type": "stream",
     "text": [
      "\n",
      "Training: 100%|█████████████████████| 500/500 [00:18<00:00, 27.37it/s, loss=1.51]\n",
      "Validation: 100%|██████████████| 100/100 [00:04<00:00, 23.85it/s, accuracy=0.397]"
     ]
    },
    {
     "name": "stdout",
     "output_type": "stream",
     "text": [
      "Epoch 68\n"
     ]
    },
    {
     "name": "stderr",
     "output_type": "stream",
     "text": [
      "\n",
      "Training: 100%|█████████████████████| 500/500 [00:18<00:00, 27.13it/s, loss=1.51]\n",
      "Validation: 100%|██████████████| 100/100 [00:04<00:00, 24.60it/s, accuracy=0.397]"
     ]
    },
    {
     "name": "stdout",
     "output_type": "stream",
     "text": [
      "Epoch 69\n"
     ]
    },
    {
     "name": "stderr",
     "output_type": "stream",
     "text": [
      "\n",
      "Training: 100%|█████████████████████| 500/500 [00:17<00:00, 28.31it/s, loss=1.52]\n",
      "Validation: 100%|██████████████| 100/100 [00:03<00:00, 25.06it/s, accuracy=0.382]"
     ]
    },
    {
     "name": "stdout",
     "output_type": "stream",
     "text": [
      "Epoch 70\n"
     ]
    },
    {
     "name": "stderr",
     "output_type": "stream",
     "text": [
      "\n",
      "Training: 100%|█████████████████████| 500/500 [00:18<00:00, 27.65it/s, loss=1.51]\n",
      "Validation: 100%|██████████████| 100/100 [00:03<00:00, 25.58it/s, accuracy=0.382]"
     ]
    },
    {
     "name": "stdout",
     "output_type": "stream",
     "text": [
      "Epoch 71\n"
     ]
    },
    {
     "name": "stderr",
     "output_type": "stream",
     "text": [
      "\n",
      "Training: 100%|█████████████████████| 500/500 [00:17<00:00, 28.28it/s, loss=1.51]\n",
      "Validation: 100%|██████████████| 100/100 [00:03<00:00, 26.76it/s, accuracy=0.387]"
     ]
    },
    {
     "name": "stdout",
     "output_type": "stream",
     "text": [
      "Epoch 72\n"
     ]
    },
    {
     "name": "stderr",
     "output_type": "stream",
     "text": [
      "\n",
      "Training: 100%|█████████████████████| 500/500 [00:18<00:00, 27.08it/s, loss=1.52]\n",
      "Validation: 100%|██████████████| 100/100 [00:03<00:00, 26.12it/s, accuracy=0.367]"
     ]
    },
    {
     "name": "stdout",
     "output_type": "stream",
     "text": [
      "Epoch 73\n"
     ]
    },
    {
     "name": "stderr",
     "output_type": "stream",
     "text": [
      "\n",
      "Training: 100%|█████████████████████| 500/500 [00:17<00:00, 27.92it/s, loss=1.52]\n",
      "Validation: 100%|██████████████| 100/100 [00:03<00:00, 26.62it/s, accuracy=0.385]"
     ]
    },
    {
     "name": "stdout",
     "output_type": "stream",
     "text": [
      "Epoch 74\n"
     ]
    },
    {
     "name": "stderr",
     "output_type": "stream",
     "text": [
      "\n",
      "Training: 100%|█████████████████████| 500/500 [00:17<00:00, 27.88it/s, loss=1.52]\n",
      "Validation: 100%|██████████████| 100/100 [00:03<00:00, 26.84it/s, accuracy=0.381]"
     ]
    },
    {
     "name": "stdout",
     "output_type": "stream",
     "text": [
      "Epoch 75\n"
     ]
    },
    {
     "name": "stderr",
     "output_type": "stream",
     "text": [
      "\n",
      "Training: 100%|█████████████████████| 500/500 [00:18<00:00, 27.74it/s, loss=1.52]\n",
      "Validation: 100%|██████████████| 100/100 [00:03<00:00, 27.80it/s, accuracy=0.384]"
     ]
    },
    {
     "name": "stdout",
     "output_type": "stream",
     "text": [
      "Epoch 76\n"
     ]
    },
    {
     "name": "stderr",
     "output_type": "stream",
     "text": [
      "\n",
      "Training: 100%|█████████████████████| 500/500 [00:18<00:00, 27.73it/s, loss=1.51]\n",
      "Validation: 100%|██████████████| 100/100 [00:03<00:00, 26.04it/s, accuracy=0.354]"
     ]
    },
    {
     "name": "stdout",
     "output_type": "stream",
     "text": [
      "Epoch 77\n"
     ]
    },
    {
     "name": "stderr",
     "output_type": "stream",
     "text": [
      "\n",
      "Training: 100%|█████████████████████| 500/500 [00:17<00:00, 28.73it/s, loss=1.52]\n",
      "Validation: 100%|██████████████| 100/100 [00:03<00:00, 26.85it/s, accuracy=0.368]"
     ]
    },
    {
     "name": "stdout",
     "output_type": "stream",
     "text": [
      "Epoch 78\n"
     ]
    },
    {
     "name": "stderr",
     "output_type": "stream",
     "text": [
      "\n",
      "Training: 100%|█████████████████████| 500/500 [00:18<00:00, 27.16it/s, loss=1.51]\n",
      "Validation: 100%|██████████████| 100/100 [00:04<00:00, 24.19it/s, accuracy=0.404]"
     ]
    },
    {
     "name": "stdout",
     "output_type": "stream",
     "text": [
      "Epoch 79\n"
     ]
    },
    {
     "name": "stderr",
     "output_type": "stream",
     "text": [
      "\n",
      "Training: 100%|█████████████████████| 500/500 [00:20<00:00, 24.50it/s, loss=1.51]\n",
      "Validation: 100%|██████████████| 100/100 [00:04<00:00, 23.87it/s, accuracy=0.359]"
     ]
    },
    {
     "name": "stdout",
     "output_type": "stream",
     "text": [
      "Epoch 80\n"
     ]
    },
    {
     "name": "stderr",
     "output_type": "stream",
     "text": [
      "\n",
      "Training: 100%|█████████████████████| 500/500 [00:23<00:00, 21.24it/s, loss=1.52]\n",
      "Validation: 100%|██████████████| 100/100 [00:03<00:00, 25.66it/s, accuracy=0.388]"
     ]
    },
    {
     "name": "stdout",
     "output_type": "stream",
     "text": [
      "Epoch 81\n"
     ]
    },
    {
     "name": "stderr",
     "output_type": "stream",
     "text": [
      "\n",
      "Training:  24%|█████                | 120/500 [00:06<00:19, 19.85it/s, loss=1.53]\n",
      "Exception ignored in: <bound method IPythonKernel._clean_thread_parent_frames of <ipykernel.ipkernel.IPythonKernel object at 0x7f9ab990f2e0>>\n",
      "Traceback (most recent call last):\n",
      "  File \"/root/anaconda3/lib/python3.10/site-packages/ipykernel/ipkernel.py\", line 770, in _clean_thread_parent_frames\n",
      "    def _clean_thread_parent_frames(\n",
      "KeyboardInterrupt: \n",
      "\n",
      "KeyboardInterrupt\n",
      "\n"
     ]
    }
   ],
   "source": [
    "from easyfsl.utils import evaluate\n",
    "\n",
    "\n",
    "best_state = few_shot_classifier.state_dict()\n",
    "best_validation_accuracy = 0.0\n",
    "for epoch in range(n_epochs):\n",
    "    print(f\"Epoch {epoch}\")\n",
    "    average_loss = training_epoch(few_shot_classifier, train_loader, train_optimizer)\n",
    "    validation_accuracy = evaluate(few_shot_classifier, val_loader, device=DEVICE, tqdm_prefix=\"Validation\")\n",
    "\n",
    "    if validation_accuracy > best_validation_accuracy:\n",
    "        best_validation_accuracy = validation_accuracy\n",
    "        best_state = copy.deepcopy(few_shot_classifier.state_dict())\n",
    "        print(\"Ding ding ding! We found a new best model!\")\n",
    "\n",
    "    tb_writer.add_scalar(\"Train/loss\", average_loss, epoch)\n",
    "    tb_writer.add_scalar(\"Val/acc\", validation_accuracy, epoch)\n",
    "\n",
    "    # Warn the scheduler that we did an epoch\n",
    "    # so it knows when to decrease the learning rate\n",
    "    train_scheduler.step()"
   ]
  },
  {
   "cell_type": "markdown",
   "metadata": {
    "collapsed": false,
    "jupyter": {
     "outputs_hidden": false
    },
    "pycharm": {
     "name": "#%% md\n"
    }
   },
   "source": [
    "我们成功完成了情景训练!现在，如果您愿意，您可以检索最佳模型的状态。"
   ]
  },
  {
   "cell_type": "code",
   "execution_count": 11,
   "metadata": {
    "collapsed": false,
    "jupyter": {
     "outputs_hidden": false
    },
    "pycharm": {
     "name": "#%%\n"
    }
   },
   "outputs": [
    {
     "data": {
      "text/plain": [
       "<All keys matched successfully>"
      ]
     },
     "execution_count": 11,
     "metadata": {},
     "output_type": "execute_result"
    }
   ],
   "source": [
    "few_shot_classifier.load_state_dict(best_state)"
   ]
  },
  {
   "cell_type": "markdown",
   "metadata": {
    "collapsed": false,
    "jupyter": {
     "outputs_hidden": false
    },
    "pycharm": {
     "name": "#%% md\n"
    }
   },
   "source": [
    "## Evaluation\n",
    "\n",
    "现在我们的模型已经训练好了，我们想要测试它。\n",
    "第一步:获取测试数据。"
   ]
  },
  {
   "cell_type": "code",
   "execution_count": 12,
   "metadata": {
    "collapsed": false,
    "jupyter": {
     "outputs_hidden": false
    },
    "pycharm": {
     "name": "#%%\n"
    }
   },
   "outputs": [],
   "source": [
    "n_test_tasks = 1000\n",
    "\n",
    "test_set = CUB(split=\"test\", training=False)\n",
    "test_sampler = TaskSampler(\n",
    "    test_set, n_way=n_way, n_shot=n_shot, n_query=n_query, n_tasks=n_test_tasks\n",
    ")\n",
    "test_loader = DataLoader(\n",
    "    test_set,\n",
    "    batch_sampler=test_sampler,\n",
    "    num_workers=n_workers,\n",
    "    pin_memory=True,\n",
    "    collate_fn=test_sampler.episodic_collate_fn,\n",
    ")"
   ]
  },
  {
   "cell_type": "markdown",
   "metadata": {
    "collapsed": false,
    "jupyter": {
     "outputs_hidden": false
    },
    "pycharm": {
     "name": "#%% md\n"
    }
   },
   "source": [
    "Second step: we run the few-shot classifier on the test data."
   ]
  },
  {
   "cell_type": "code",
   "execution_count": 13,
   "metadata": {
    "collapsed": false,
    "jupyter": {
     "outputs_hidden": false
    },
    "pycharm": {
     "name": "#%%\n"
    }
   },
   "outputs": [
    {
     "name": "stderr",
     "output_type": "stream",
     "text": [
      " 13%|████▏                          | 134/1000 [00:08<00:51, 16.66it/s, accuracy=0.4]\n"
     ]
    },
    {
     "ename": "KeyboardInterrupt",
     "evalue": "",
     "output_type": "error",
     "traceback": [
      "\u001b[0;31m---------------------------------------------------------------------------\u001b[0m",
      "\u001b[0;31mKeyboardInterrupt\u001b[0m                         Traceback (most recent call last)",
      "Cell \u001b[0;32mIn[13], line 1\u001b[0m\n\u001b[0;32m----> 1\u001b[0m accuracy \u001b[38;5;241m=\u001b[39m \u001b[43mevaluate\u001b[49m\u001b[43m(\u001b[49m\u001b[43mfew_shot_classifier\u001b[49m\u001b[43m,\u001b[49m\u001b[43m \u001b[49m\u001b[43mtest_loader\u001b[49m\u001b[43m,\u001b[49m\u001b[43m \u001b[49m\u001b[43mdevice\u001b[49m\u001b[38;5;241;43m=\u001b[39;49m\u001b[43mDEVICE\u001b[49m\u001b[43m)\u001b[49m\n\u001b[1;32m      2\u001b[0m \u001b[38;5;28mprint\u001b[39m(\u001b[38;5;124mf\u001b[39m\u001b[38;5;124m\"\u001b[39m\u001b[38;5;124mAverage accuracy : \u001b[39m\u001b[38;5;132;01m{\u001b[39;00m(\u001b[38;5;241m100\u001b[39m\u001b[38;5;250m \u001b[39m\u001b[38;5;241m*\u001b[39m\u001b[38;5;250m \u001b[39maccuracy)\u001b[38;5;132;01m:\u001b[39;00m\u001b[38;5;124m.2f\u001b[39m\u001b[38;5;132;01m}\u001b[39;00m\u001b[38;5;124m %\u001b[39m\u001b[38;5;124m\"\u001b[39m)\n",
      "File \u001b[0;32m~/anaconda3/lib/python3.10/site-packages/easyfsl/utils.py:148\u001b[0m, in \u001b[0;36mevaluate\u001b[0;34m(model, data_loader, device, use_tqdm, tqdm_prefix)\u001b[0m\n\u001b[1;32m    135\u001b[0m \u001b[38;5;28;01mwith\u001b[39;00m tqdm(\n\u001b[1;32m    136\u001b[0m     \u001b[38;5;28menumerate\u001b[39m(data_loader),\n\u001b[1;32m    137\u001b[0m     total\u001b[38;5;241m=\u001b[39m\u001b[38;5;28mlen\u001b[39m(data_loader),\n\u001b[1;32m    138\u001b[0m     disable\u001b[38;5;241m=\u001b[39m\u001b[38;5;129;01mnot\u001b[39;00m use_tqdm,\n\u001b[1;32m    139\u001b[0m     desc\u001b[38;5;241m=\u001b[39mtqdm_prefix,\n\u001b[1;32m    140\u001b[0m ) \u001b[38;5;28;01mas\u001b[39;00m tqdm_eval:\n\u001b[1;32m    141\u001b[0m     \u001b[38;5;28;01mfor\u001b[39;00m _, (\n\u001b[1;32m    142\u001b[0m         support_images,\n\u001b[1;32m    143\u001b[0m         support_labels,\n\u001b[0;32m   (...)\u001b[0m\n\u001b[1;32m    146\u001b[0m         _,\n\u001b[1;32m    147\u001b[0m     ) \u001b[38;5;129;01min\u001b[39;00m tqdm_eval:\n\u001b[0;32m--> 148\u001b[0m         correct, total \u001b[38;5;241m=\u001b[39m \u001b[43mevaluate_on_one_task\u001b[49m\u001b[43m(\u001b[49m\n\u001b[1;32m    149\u001b[0m \u001b[43m            \u001b[49m\u001b[43mmodel\u001b[49m\u001b[43m,\u001b[49m\n\u001b[1;32m    150\u001b[0m \u001b[43m            \u001b[49m\u001b[43msupport_images\u001b[49m\u001b[38;5;241;43m.\u001b[39;49m\u001b[43mto\u001b[49m\u001b[43m(\u001b[49m\u001b[43mdevice\u001b[49m\u001b[43m)\u001b[49m\u001b[43m,\u001b[49m\n\u001b[1;32m    151\u001b[0m \u001b[43m            \u001b[49m\u001b[43msupport_labels\u001b[49m\u001b[38;5;241;43m.\u001b[39;49m\u001b[43mto\u001b[49m\u001b[43m(\u001b[49m\u001b[43mdevice\u001b[49m\u001b[43m)\u001b[49m\u001b[43m,\u001b[49m\n\u001b[1;32m    152\u001b[0m \u001b[43m            \u001b[49m\u001b[43mquery_images\u001b[49m\u001b[38;5;241;43m.\u001b[39;49m\u001b[43mto\u001b[49m\u001b[43m(\u001b[49m\u001b[43mdevice\u001b[49m\u001b[43m)\u001b[49m\u001b[43m,\u001b[49m\n\u001b[1;32m    153\u001b[0m \u001b[43m            \u001b[49m\u001b[43mquery_labels\u001b[49m\u001b[38;5;241;43m.\u001b[39;49m\u001b[43mto\u001b[49m\u001b[43m(\u001b[49m\u001b[43mdevice\u001b[49m\u001b[43m)\u001b[49m\u001b[43m,\u001b[49m\n\u001b[1;32m    154\u001b[0m \u001b[43m        \u001b[49m\u001b[43m)\u001b[49m\n\u001b[1;32m    156\u001b[0m         total_predictions \u001b[38;5;241m+\u001b[39m\u001b[38;5;241m=\u001b[39m total\n\u001b[1;32m    157\u001b[0m         correct_predictions \u001b[38;5;241m+\u001b[39m\u001b[38;5;241m=\u001b[39m correct\n",
      "File \u001b[0;32m~/anaconda3/lib/python3.10/site-packages/easyfsl/utils.py:100\u001b[0m, in \u001b[0;36mevaluate_on_one_task\u001b[0;34m(model, support_images, support_labels, query_images, query_labels)\u001b[0m\n\u001b[1;32m     95\u001b[0m \u001b[38;5;250m\u001b[39m\u001b[38;5;124;03m\"\"\"\u001b[39;00m\n\u001b[1;32m     96\u001b[0m \u001b[38;5;124;03mReturns the number of correct predictions of query labels, and the total number of\u001b[39;00m\n\u001b[1;32m     97\u001b[0m \u001b[38;5;124;03mpredictions.\u001b[39;00m\n\u001b[1;32m     98\u001b[0m \u001b[38;5;124;03m\"\"\"\u001b[39;00m\n\u001b[1;32m     99\u001b[0m model\u001b[38;5;241m.\u001b[39mprocess_support_set(support_images, support_labels)\n\u001b[0;32m--> 100\u001b[0m predictions \u001b[38;5;241m=\u001b[39m \u001b[43mmodel\u001b[49m\u001b[43m(\u001b[49m\u001b[43mquery_images\u001b[49m\u001b[43m)\u001b[49m\u001b[38;5;241m.\u001b[39mdetach()\u001b[38;5;241m.\u001b[39mdata\n\u001b[1;32m    101\u001b[0m number_of_correct_predictions \u001b[38;5;241m=\u001b[39m (\n\u001b[1;32m    102\u001b[0m     (torch\u001b[38;5;241m.\u001b[39mmax(predictions, \u001b[38;5;241m1\u001b[39m)[\u001b[38;5;241m1\u001b[39m] \u001b[38;5;241m==\u001b[39m query_labels)\u001b[38;5;241m.\u001b[39msum()\u001b[38;5;241m.\u001b[39mitem()\n\u001b[1;32m    103\u001b[0m )\n\u001b[1;32m    104\u001b[0m \u001b[38;5;28;01mreturn\u001b[39;00m number_of_correct_predictions, \u001b[38;5;28mlen\u001b[39m(query_labels)\n",
      "File \u001b[0;32m~/anaconda3/lib/python3.10/site-packages/torch/nn/modules/module.py:1194\u001b[0m, in \u001b[0;36mModule._call_impl\u001b[0;34m(self, *input, **kwargs)\u001b[0m\n\u001b[1;32m   1190\u001b[0m \u001b[38;5;66;03m# If we don't have any hooks, we want to skip the rest of the logic in\u001b[39;00m\n\u001b[1;32m   1191\u001b[0m \u001b[38;5;66;03m# this function, and just call forward.\u001b[39;00m\n\u001b[1;32m   1192\u001b[0m \u001b[38;5;28;01mif\u001b[39;00m \u001b[38;5;129;01mnot\u001b[39;00m (\u001b[38;5;28mself\u001b[39m\u001b[38;5;241m.\u001b[39m_backward_hooks \u001b[38;5;129;01mor\u001b[39;00m \u001b[38;5;28mself\u001b[39m\u001b[38;5;241m.\u001b[39m_forward_hooks \u001b[38;5;129;01mor\u001b[39;00m \u001b[38;5;28mself\u001b[39m\u001b[38;5;241m.\u001b[39m_forward_pre_hooks \u001b[38;5;129;01mor\u001b[39;00m _global_backward_hooks\n\u001b[1;32m   1193\u001b[0m         \u001b[38;5;129;01mor\u001b[39;00m _global_forward_hooks \u001b[38;5;129;01mor\u001b[39;00m _global_forward_pre_hooks):\n\u001b[0;32m-> 1194\u001b[0m     \u001b[38;5;28;01mreturn\u001b[39;00m \u001b[43mforward_call\u001b[49m\u001b[43m(\u001b[49m\u001b[38;5;241;43m*\u001b[39;49m\u001b[38;5;28;43minput\u001b[39;49m\u001b[43m,\u001b[49m\u001b[43m \u001b[49m\u001b[38;5;241;43m*\u001b[39;49m\u001b[38;5;241;43m*\u001b[39;49m\u001b[43mkwargs\u001b[49m\u001b[43m)\u001b[49m\n\u001b[1;32m   1195\u001b[0m \u001b[38;5;66;03m# Do not call functions when jit is used\u001b[39;00m\n\u001b[1;32m   1196\u001b[0m full_backward_hooks, non_full_backward_hooks \u001b[38;5;241m=\u001b[39m [], []\n",
      "File \u001b[0;32m~/anaconda3/lib/python3.10/site-packages/easyfsl/methods/prototypical_networks.py:36\u001b[0m, in \u001b[0;36mPrototypicalNetworks.forward\u001b[0;34m(self, query_images)\u001b[0m\n\u001b[1;32m     33\u001b[0m \u001b[38;5;28mself\u001b[39m\u001b[38;5;241m.\u001b[39m_raise_error_if_features_are_multi_dimensional(query_features)\n\u001b[1;32m     35\u001b[0m \u001b[38;5;66;03m# Compute the euclidean distance from queries to prototypes\u001b[39;00m\n\u001b[0;32m---> 36\u001b[0m scores \u001b[38;5;241m=\u001b[39m \u001b[38;5;28;43mself\u001b[39;49m\u001b[38;5;241;43m.\u001b[39;49m\u001b[43ml2_distance_to_prototypes\u001b[49m\u001b[43m(\u001b[49m\u001b[43mquery_features\u001b[49m\u001b[43m)\u001b[49m\n\u001b[1;32m     38\u001b[0m \u001b[38;5;28;01mreturn\u001b[39;00m \u001b[38;5;28mself\u001b[39m\u001b[38;5;241m.\u001b[39msoftmax_if_specified(scores)\n",
      "File \u001b[0;32m~/anaconda3/lib/python3.10/site-packages/easyfsl/methods/few_shot_classifier.py:121\u001b[0m, in \u001b[0;36mFewShotClassifier.l2_distance_to_prototypes\u001b[0;34m(self, samples)\u001b[0m\n\u001b[1;32m    113\u001b[0m \u001b[38;5;28;01mdef\u001b[39;00m \u001b[38;5;21ml2_distance_to_prototypes\u001b[39m(\u001b[38;5;28mself\u001b[39m, samples: Tensor) \u001b[38;5;241m-\u001b[39m\u001b[38;5;241m>\u001b[39m Tensor:\n\u001b[1;32m    114\u001b[0m \u001b[38;5;250m    \u001b[39m\u001b[38;5;124;03m\"\"\"\u001b[39;00m\n\u001b[1;32m    115\u001b[0m \u001b[38;5;124;03m    Compute prediction logits from their euclidean distance to support set prototypes.\u001b[39;00m\n\u001b[1;32m    116\u001b[0m \u001b[38;5;124;03m    Args:\u001b[39;00m\n\u001b[0;32m   (...)\u001b[0m\n\u001b[1;32m    119\u001b[0m \u001b[38;5;124;03m        prediction logits of shape (n_samples, n_classes)\u001b[39;00m\n\u001b[1;32m    120\u001b[0m \u001b[38;5;124;03m    \"\"\"\u001b[39;00m\n\u001b[0;32m--> 121\u001b[0m     \u001b[38;5;28;01mreturn\u001b[39;00m \u001b[38;5;241m-\u001b[39m\u001b[43mtorch\u001b[49m\u001b[38;5;241;43m.\u001b[39;49m\u001b[43mcdist\u001b[49m\u001b[43m(\u001b[49m\u001b[43msamples\u001b[49m\u001b[43m,\u001b[49m\u001b[43m \u001b[49m\u001b[38;5;28;43mself\u001b[39;49m\u001b[38;5;241;43m.\u001b[39;49m\u001b[43mprototypes\u001b[49m\u001b[43m)\u001b[49m\n",
      "File \u001b[0;32m~/anaconda3/lib/python3.10/site-packages/torch/functional.py:1214\u001b[0m, in \u001b[0;36mcdist\u001b[0;34m(x1, x2, p, compute_mode)\u001b[0m\n\u001b[1;32m   1211\u001b[0m     \u001b[38;5;28;01mreturn\u001b[39;00m handle_torch_function(\n\u001b[1;32m   1212\u001b[0m         cdist, (x1, x2), x1, x2, p\u001b[38;5;241m=\u001b[39mp, compute_mode\u001b[38;5;241m=\u001b[39mcompute_mode)\n\u001b[1;32m   1213\u001b[0m \u001b[38;5;28;01mif\u001b[39;00m compute_mode \u001b[38;5;241m==\u001b[39m \u001b[38;5;124m'\u001b[39m\u001b[38;5;124muse_mm_for_euclid_dist_if_necessary\u001b[39m\u001b[38;5;124m'\u001b[39m:\n\u001b[0;32m-> 1214\u001b[0m     \u001b[38;5;28;01mreturn\u001b[39;00m \u001b[43m_VF\u001b[49m\u001b[38;5;241;43m.\u001b[39;49m\u001b[43mcdist\u001b[49m\u001b[43m(\u001b[49m\u001b[43mx1\u001b[49m\u001b[43m,\u001b[49m\u001b[43m \u001b[49m\u001b[43mx2\u001b[49m\u001b[43m,\u001b[49m\u001b[43m \u001b[49m\u001b[43mp\u001b[49m\u001b[43m,\u001b[49m\u001b[43m \u001b[49m\u001b[38;5;28;43;01mNone\u001b[39;49;00m\u001b[43m)\u001b[49m  \u001b[38;5;66;03m# type: ignore[attr-defined]\u001b[39;00m\n\u001b[1;32m   1215\u001b[0m \u001b[38;5;28;01melif\u001b[39;00m compute_mode \u001b[38;5;241m==\u001b[39m \u001b[38;5;124m'\u001b[39m\u001b[38;5;124muse_mm_for_euclid_dist\u001b[39m\u001b[38;5;124m'\u001b[39m:\n\u001b[1;32m   1216\u001b[0m     \u001b[38;5;28;01mreturn\u001b[39;00m _VF\u001b[38;5;241m.\u001b[39mcdist(x1, x2, p, \u001b[38;5;241m1\u001b[39m)  \u001b[38;5;66;03m# type: ignore[attr-defined]\u001b[39;00m\n",
      "\u001b[0;31mKeyboardInterrupt\u001b[0m: "
     ]
    }
   ],
   "source": [
    "accuracy = evaluate(few_shot_classifier, test_loader, device=DEVICE)\n",
    "print(f\"Average accuracy : {(100 * accuracy):.2f} %\")"
   ]
  },
  {
   "cell_type": "markdown",
   "metadata": {
    "collapsed": false,
    "jupyter": {
     "outputs_hidden": false
    },
    "pycharm": {
     "name": "#%% md\n"
    }
   },
   "source": [
    "Congrats! You performed Episodic Training using EasyFSL. If you want to compare with a model trained using classical training, look at [this other example notebook](classical_training.ipynb).\n"
   ]
  }
 ],
 "metadata": {
  "accelerator": "GPU",
  "colab": {
   "name": "episodic_training.ipynb",
   "provenance": []
  },
  "gpuClass": "standard",
  "kernelspec": {
   "display_name": "Python 3 (ipykernel)",
   "language": "python",
   "name": "python3"
  },
  "language_info": {
   "codemirror_mode": {
    "name": "ipython",
    "version": 3
   },
   "file_extension": ".py",
   "mimetype": "text/x-python",
   "name": "python",
   "nbconvert_exporter": "python",
   "pygments_lexer": "ipython3",
   "version": "3.10.9"
  }
 },
 "nbformat": 4,
 "nbformat_minor": 4
}
